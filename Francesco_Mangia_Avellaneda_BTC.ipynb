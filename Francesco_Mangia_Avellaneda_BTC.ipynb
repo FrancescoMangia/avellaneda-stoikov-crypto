{
  "cells": [
    {
      "cell_type": "markdown",
      "metadata": {
        "id": "moZQpXoP8StN"
      },
      "source": [
        "#Required Imports"
      ]
    },
    {
      "cell_type": "code",
      "execution_count": null,
      "metadata": {
        "id": "f7KPyrUd5CQr"
      },
      "outputs": [],
      "source": [
        "import scipy.optimize \n",
        "import matplotlib.pyplot as plt\n",
        "from matplotlib import gridspec\n",
        "import seaborn as sns\n",
        "import matplotlib.dates as mdates\n",
        "import sys\n",
        "import numpy as np\n",
        "import pandas as pd\n",
        "import random\n",
        "from datetime import datetime\n",
        "import os\n",
        "import pickle\n",
        "from multiprocessing import Pool"
      ]
    },
    {
      "cell_type": "code",
      "execution_count": null,
      "metadata": {
        "id": "j_0J9EQT5UTZ"
      },
      "outputs": [],
      "source": [
        "np.random.seed(42)"
      ]
    },
    {
      "cell_type": "markdown",
      "metadata": {
        "id": "hg8_0_re8MZW"
      },
      "source": [
        "#Introduction\n",
        "Francesco Mangia (francesco.mangia.97@gmail.com)"
      ]
    },
    {
      "cell_type": "markdown",
      "metadata": {
        "id": "ShjF8DIk4ct0"
      },
      "source": [
        "\n",
        "In this Document I will implement the strategy described in the paper \"*High-Frequency Trading in a Limit Order Book*\" (\n",
        "https://www.math.nyu.edu/~avellane/HighFrequencyTrading.pdf) by Avellaneda and Stoikov. The strategy will be implemented and backtested for BTCUSD and ADAUSD, coins for which I was able to obtain the data related to the orderbook.\n",
        "\n",
        "Despite the libraries available (Hummingbot, Bitmex sample market maker, etc), I opted for a naive implementation of the strategy, for reasons of reproducibility and configurability.\n",
        "\n",
        "To implement the strategy, I relied on the implementation described in the Github Repository  quoted in *sources*, studying it and re-proposing it for the XBTUSD (BTC) and ADAUSD pairs.\n",
        "\n",
        "Although during the week provided to complete the assignment there was no time to investigate the subject furtherly in order to implement a concrete model, I noticed how the state of the art of artificial intelligence offers a series of solutions consistent with the market making problem.\n",
        "\n",
        "First of all, having already experimented with the implementations of Reinforcement and Deep Reinforcement Learning algorithms in the financial field, it occurred to me how a solution of this type can outperform the classic deterministic algorithms. The papers \"*Reinforcement Learning Approaches to Optimal Market Making*\" and \"*OPTIMAL MARKET MAKING BY REINFORCEMENT LEARNING*\" (https://www.mdpi.com/2227-7390/9/21/2689/pdf , https://arxiv.org/pdf/2104.04036.pdf) demonstrate the ability of a Reinforcement Learning agent, when rewarder properly, to find a delicate balance between the price risk of her inventory and the profits obtained by capturing the bid-ask spread.\n",
        "\n",
        "Another possibility concerns the forecasting of market volatility to estimate the gamma parameter. In fact, estimating the parameter on the basis of a forecast of future volatility instead of the current market structure would benefit the strategy in terms of inventory management. Lately I have been working on paper from 2020, published by Google, namely \"*Temporal Fusion Transformers for Interpretable Multi-horizon Time Series Forecasting*\" (https://arxiv.org/abs/1912.09363), which demonstrates how complex structures such as Transformers are, at the state of the art, the most effective solutions for predicting future volatility of markets.\n",
        "\n",
        "Even simpler models that exploit classification and forecasting algorithms through classic Machine Learning approaches have been exploited to support risk-management linked to market making strategies (https://web.stanford.edu/class/msande448/2017/Final/Reports/gr4.pdf)."
      ]
    },
    {
      "cell_type": "markdown",
      "metadata": {
        "id": "j8Jmy8vvdbTy"
      },
      "source": [
        "## Sources"
      ]
    },
    {
      "cell_type": "markdown",
      "metadata": {
        "id": "abZjSb5ndmFC"
      },
      "source": [
        "\n",
        "\n",
        "* https://quant.stackexchange.com/questions/36400/avellaneda-stoikov-market-making-model\n",
        "* https://www.jstor.org/stable/2327382\n",
        "* https://www.sciencedirect.com/science/article/abs/pii/S1386418113000207\n",
        "* https://arxiv.org/pdf/1105.3115.pdf\n",
        "* https://quant.stackexchange.com/questions/36073/how-does-one-calibrate-lambda-in-a-avellaneda-stoikov-market-making-problem\n",
        "* https://github.com/lkrenn/Market-Making-With-Crypto\n",
        "* https://arxiv.org/abs/1605.01862\n",
        "* https://arxiv.org/abs/2112.02269\n",
        "* https://arxiv.org/abs/2106.06974\n",
        "* https://hummingbot.io/en/blog/2021-04-avellaneda-stoikov-market-making-strategy\n"
      ]
    },
    {
      "cell_type": "markdown",
      "metadata": {
        "id": "176UGWgS7uv9"
      },
      "source": [
        "## Avellaneda & Stoikov's Paper\n",
        "\n",
        "Avellaneda and Stoikov's paper study the optimal submission strategies of bid and ask\n",
        "orders in a limit order book, \"*balancing between\n",
        "the dealer’s personal risk considerations and the market\n",
        "environment*\" and defining the bid/ask spread as:\n",
        "\n",
        "$$\n",
        "\\text{bid / ask spread} = \\gamma \\sigma ^2 (T - t) + \\frac{2}{\\gamma}\\ln\\left(1 + \\frac{\\gamma}{k}\\right)\n",
        "$$\n",
        "\n",
        "This spread is defined around a reservation price i.e. a price at which a market maker is indifferent between their current portfolio and their current portfolio $\\pm$ a new share. The reservation price is derived in the whitepaper as follows:\n",
        "\n",
        "$$\n",
        "\\text{reservation price} = s - q\\gamma\\sigma^2(T-t)\n",
        "$$\n",
        "\n",
        "Where:\n",
        "\n",
        "* $\\gamma$, a risk factor that is adjusted to meet the risk/return trade-off of the market maker\n",
        "* $x$, the initial capital of the market maker\n",
        "* $k$, the intensity of the arrival of orders\n",
        "* $s$ the per-unit mid-price of the asset\n",
        "* $T$, the end of the time series\n",
        "* $\\sigma$, the volatility of the asset\n",
        "* $q$, the number of assets held in inventory\n"
      ]
    },
    {
      "cell_type": "markdown",
      "metadata": {
        "id": "SL-3UFwD5HMv"
      },
      "source": [
        "# Strategy simulation through a Brownian Motion generator"
      ]
    },
    {
      "cell_type": "markdown",
      "metadata": {
        "id": "4EN6kcHbeG9I"
      },
      "source": [
        "\n",
        "\n",
        "\n",
        "---\n",
        "\n",
        "\n",
        "In this section we will replicate the simulation carried out on the official paper to evaluate the performances of the strategy. The mid-price will be simulated as a Brownian Motion.\n",
        "\n",
        "\n",
        "---\n",
        "\n"
      ]
    },
    {
      "cell_type": "code",
      "execution_count": null,
      "metadata": {
        "id": "qsNZ5RPw3tsl"
      },
      "outputs": [],
      "source": [
        "# Create a brownian motion generator\n",
        "def brownianMotion(x0, n, dt, sigma):\n",
        "    # Generate normal random variables\n",
        "    r = np.random.normal(size = n, scale = sigma*np.sqrt(dt))\n",
        "    # Calculate cumulative sum of random variables\n",
        "    cumsum = np.cumsum(r)\n",
        "    # Add in initial conditions\n",
        "    cumsum += np.expand_dims(x0, axis=-1)\n",
        "    cumsum[0] = x0\n",
        "    return cumsum"
      ]
    },
    {
      "cell_type": "code",
      "execution_count": null,
      "metadata": {
        "id": "l7a_Pa3N5Rpy"
      },
      "outputs": [],
      "source": [
        "#Parameters\n",
        "s0 = 100\n",
        "T = 1\n",
        "sigma = 2\n",
        "dt = 0.005\n",
        "gamma = 0.1\n",
        "k = 1.5\n",
        "A = 140"
      ]
    },
    {
      "cell_type": "code",
      "execution_count": null,
      "metadata": {
        "id": "mLJUahX6kzjO"
      },
      "outputs": [],
      "source": [
        "#Number of simulations\n",
        "sim_length = 1000"
      ]
    },
    {
      "cell_type": "code",
      "execution_count": null,
      "metadata": {
        "id": "gwoHY9EA5l25"
      },
      "outputs": [],
      "source": [
        "spreadlist = []\n",
        "reslist = []\n",
        "qlist = []\n",
        "\n",
        "# Duration of each simulation\n",
        "N = 200\n",
        "\n",
        "for sim in range(sim_length):\n",
        "    #Generate the Brownian Motion\n",
        "    s = brownianMotion(s0, N+1, dt, sigma)\n",
        "    # Initialize empty array for pnl\n",
        "    pnl = np.zeros(N+2)\n",
        "    # Inventory\n",
        "    q = np.zeros(N+2)\n",
        "    # Capital/Cash\n",
        "    x = np.zeros(N+2)\n",
        "    # Ask limit order\n",
        "    s_a = np.zeros(N+1)\n",
        "    # Reserve price\n",
        "    r = np.zeros(N+1)\n",
        "    # Bid limit order\n",
        "    s_b = np.zeros(N+1)\n",
        "\n",
        "    for i in range(len(s)):\n",
        "        # Calculate reservation price\n",
        "        r[i] = s[i] - q[i] * gamma * sigma**2 * (T-i*dt)\n",
        "        # Calculate spread\n",
        "        spread = gamma * sigma**2 * (T - i * dt) + (2 / gamma) * np.log(1 + (gamma / k))\n",
        "        spread = spread / 2\n",
        "\n",
        "        # Adjust spreads for gap between reserve price\n",
        "        # and asset mid-price\n",
        "        gap = np.abs(r[i] - s[i])\n",
        "\n",
        "        if r[i] >= s[i]:\n",
        "            delta_a = spread + gap\n",
        "            delta_b = spread - gap\n",
        "        else:\n",
        "            delta_a = spread - gap\n",
        "            delta_b = spread + gap\n",
        "\n",
        "        s_a[i] = s[i] + delta_a\n",
        "        s_b[i] = s[i] - delta_b\n",
        "\n",
        "        # Calculate our lambdas, (12)\n",
        "        lambda_a = A*np.exp(-k*delta_a) * dt\n",
        "        lambda_b = A*np.exp(-k*delta_b) * dt\n",
        "\n",
        "        # Restrict to domain of real probabilities\n",
        "        # i.e. [0,1]\n",
        "        prob_ask = max(0, min(lambda_a,1))\n",
        "        prob_bid = max(0, min(lambda_b,1))\n",
        "\n",
        "        # Determine whether or not we buy/sell according\n",
        "        # to the above probabilities\n",
        "        sell = np.random.choice([1,0], p=[prob_ask, 1-prob_ask])\n",
        "        buy  = np.random.choice([1,0], p=[prob_bid, 1-prob_bid])\n",
        "\n",
        "        # Adjust inventory to reflect transactions\n",
        "        q[i+1] = q[i] + buy - sell\n",
        "\n",
        "        # Calculate new capital\n",
        "        x[i+1] = x[i] + sell*(s[i]+delta_a) - buy*(s[i]-delta_b)\n",
        "\n",
        "        # Calculate pnl of assets\n",
        "        pnl[i+1] = x[i+1] + q[i+1]*s[i]\n",
        "\n",
        "        # Append results to lists\n",
        "        spreadlist.append(spread * 2)\n",
        "\n",
        "    reslist.append(pnl[-1])\n",
        "    qlist.append(q[-1])"
      ]
    },
    {
      "cell_type": "markdown",
      "metadata": {
        "id": "W9R8PksXaC07"
      },
      "source": [
        "\n",
        "Let's compare the results obtained on the paper with those of our simulation to verify that it everything is implemented correctly:\n",
        "\n",
        "![image.png](data:image/png;base64,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)\n"
      ]
    },
    {
      "cell_type": "code",
      "execution_count": null,
      "metadata": {
        "colab": {
          "base_uri": "https://localhost:8080/",
          "height": 81
        },
        "id": "_CDvgWiuYsx2",
        "outputId": "788077c3-3ec4-4fa1-feac-cc77cd7805cf"
      },
      "outputs": [
        {
          "data": {
            "text/html": [
              "\n",
              "  <div id=\"df-dcbc022c-69b8-4433-acc4-dfb1ea4167db\">\n",
              "    <div class=\"colab-df-container\">\n",
              "      <div>\n",
              "<style scoped>\n",
              "    .dataframe tbody tr th:only-of-type {\n",
              "        vertical-align: middle;\n",
              "    }\n",
              "\n",
              "    .dataframe tbody tr th {\n",
              "        vertical-align: top;\n",
              "    }\n",
              "\n",
              "    .dataframe thead th {\n",
              "        text-align: right;\n",
              "    }\n",
              "</style>\n",
              "<table border=\"1\" class=\"dataframe\">\n",
              "  <thead>\n",
              "    <tr style=\"text-align: right;\">\n",
              "      <th></th>\n",
              "      <th>Avg. Spread</th>\n",
              "      <th>Profit</th>\n",
              "      <th>Std (Profit)</th>\n",
              "      <th>Final $q$</th>\n",
              "      <th>Std (Final $q$)</th>\n",
              "    </tr>\n",
              "  </thead>\n",
              "  <tbody>\n",
              "    <tr>\n",
              "      <th>Inventory</th>\n",
              "      <td>1.49077</td>\n",
              "      <td>65.315004</td>\n",
              "      <td>6.628653</td>\n",
              "      <td>-0.031</td>\n",
              "      <td>3.021264</td>\n",
              "    </tr>\n",
              "  </tbody>\n",
              "</table>\n",
              "</div>\n",
              "      <button class=\"colab-df-convert\" onclick=\"convertToInteractive('df-dcbc022c-69b8-4433-acc4-dfb1ea4167db')\"\n",
              "              title=\"Convert this dataframe to an interactive table.\"\n",
              "              style=\"display:none;\">\n",
              "        \n",
              "  <svg xmlns=\"http://www.w3.org/2000/svg\" height=\"24px\"viewBox=\"0 0 24 24\"\n",
              "       width=\"24px\">\n",
              "    <path d=\"M0 0h24v24H0V0z\" fill=\"none\"/>\n",
              "    <path d=\"M18.56 5.44l.94 2.06.94-2.06 2.06-.94-2.06-.94-.94-2.06-.94 2.06-2.06.94zm-11 1L8.5 8.5l.94-2.06 2.06-.94-2.06-.94L8.5 2.5l-.94 2.06-2.06.94zm10 10l.94 2.06.94-2.06 2.06-.94-2.06-.94-.94-2.06-.94 2.06-2.06.94z\"/><path d=\"M17.41 7.96l-1.37-1.37c-.4-.4-.92-.59-1.43-.59-.52 0-1.04.2-1.43.59L10.3 9.45l-7.72 7.72c-.78.78-.78 2.05 0 2.83L4 21.41c.39.39.9.59 1.41.59.51 0 1.02-.2 1.41-.59l7.78-7.78 2.81-2.81c.8-.78.8-2.07 0-2.86zM5.41 20L4 18.59l7.72-7.72 1.47 1.35L5.41 20z\"/>\n",
              "  </svg>\n",
              "      </button>\n",
              "      \n",
              "  <style>\n",
              "    .colab-df-container {\n",
              "      display:flex;\n",
              "      flex-wrap:wrap;\n",
              "      gap: 12px;\n",
              "    }\n",
              "\n",
              "    .colab-df-convert {\n",
              "      background-color: #E8F0FE;\n",
              "      border: none;\n",
              "      border-radius: 50%;\n",
              "      cursor: pointer;\n",
              "      display: none;\n",
              "      fill: #1967D2;\n",
              "      height: 32px;\n",
              "      padding: 0 0 0 0;\n",
              "      width: 32px;\n",
              "    }\n",
              "\n",
              "    .colab-df-convert:hover {\n",
              "      background-color: #E2EBFA;\n",
              "      box-shadow: 0px 1px 2px rgba(60, 64, 67, 0.3), 0px 1px 3px 1px rgba(60, 64, 67, 0.15);\n",
              "      fill: #174EA6;\n",
              "    }\n",
              "\n",
              "    [theme=dark] .colab-df-convert {\n",
              "      background-color: #3B4455;\n",
              "      fill: #D2E3FC;\n",
              "    }\n",
              "\n",
              "    [theme=dark] .colab-df-convert:hover {\n",
              "      background-color: #434B5C;\n",
              "      box-shadow: 0px 1px 3px 1px rgba(0, 0, 0, 0.15);\n",
              "      filter: drop-shadow(0px 1px 2px rgba(0, 0, 0, 0.3));\n",
              "      fill: #FFFFFF;\n",
              "    }\n",
              "  </style>\n",
              "\n",
              "      <script>\n",
              "        const buttonEl =\n",
              "          document.querySelector('#df-dcbc022c-69b8-4433-acc4-dfb1ea4167db button.colab-df-convert');\n",
              "        buttonEl.style.display =\n",
              "          google.colab.kernel.accessAllowed ? 'block' : 'none';\n",
              "\n",
              "        async function convertToInteractive(key) {\n",
              "          const element = document.querySelector('#df-dcbc022c-69b8-4433-acc4-dfb1ea4167db');\n",
              "          const dataTable =\n",
              "            await google.colab.kernel.invokeFunction('convertToInteractive',\n",
              "                                                     [key], {});\n",
              "          if (!dataTable) return;\n",
              "\n",
              "          const docLinkHtml = 'Like what you see? Visit the ' +\n",
              "            '<a target=\"_blank\" href=https://colab.research.google.com/notebooks/data_table.ipynb>data table notebook</a>'\n",
              "            + ' to learn more about interactive tables.';\n",
              "          element.innerHTML = '';\n",
              "          dataTable['output_type'] = 'display_data';\n",
              "          await google.colab.output.renderOutput(dataTable, element);\n",
              "          const docLink = document.createElement('div');\n",
              "          docLink.innerHTML = docLinkHtml;\n",
              "          element.appendChild(docLink);\n",
              "        }\n",
              "      </script>\n",
              "    </div>\n",
              "  </div>\n",
              "  "
            ],
            "text/plain": [
              "           Avg. Spread     Profit  Std (Profit)  Final $q$  Std (Final $q$)\n",
              "Inventory      1.49077  65.315004      6.628653     -0.031         3.021264"
            ]
          },
          "execution_count": 9,
          "metadata": {},
          "output_type": "execute_result"
        }
      ],
      "source": [
        "pd.DataFrame([np.mean(spreadlist), np.mean(reslist), np.std(reslist), np.mean(qlist), np.std(qlist)],\n",
        "            index=['Avg. Spread','Profit','Std (Profit)', 'Final $q$', 'Std (Final $q$)'],\n",
        "            columns=['Inventory']).T"
      ]
    },
    {
      "cell_type": "markdown",
      "metadata": {
        "id": "wlXqlRJqh8xQ"
      },
      "source": [
        "\n",
        "\n",
        "---\n",
        "\n",
        "\n",
        "The results are consistent with what is described in the paper.\n",
        "Now let's compare the distribution of the PnL obtained in our simulation with that published in the official paper (*i.e Inventory Strategy*)\n",
        "\n",
        "\n",
        "---\n",
        "\n",
        "\n"
      ]
    },
    {
      "cell_type": "code",
      "execution_count": null,
      "metadata": {
        "colab": {
          "base_uri": "https://localhost:8080/",
          "height": 569
        },
        "id": "fzvuTbl3aGOj",
        "outputId": "87f761dc-e3f5-42c4-eb00-5e94a63fdd60"
      },
      "outputs": [
        {
          "name": "stderr",
          "output_type": "stream",
          "text": [
            "/usr/local/lib/python3.7/dist-packages/seaborn/distributions.py:2619: FutureWarning: `distplot` is a deprecated function and will be removed in a future version. Please adapt your code to use either `displot` (a figure-level function with similar flexibility) or `histplot` (an axes-level function for histograms).\n",
            "  warnings.warn(msg, FutureWarning)\n"
          ]
        },
        {
          "data": {
            "image/png": "[encoded data removed]",
            "text/plain": [
              "<Figure size 1080x576 with 1 Axes>"
            ]
          },
          "metadata": {},
          "output_type": "display_data"
        }
      ],
      "source": [
        "plt.figure(figsize=(15,8))\n",
        "plt.title('Histogram and Kernel Density Estimate of Final PnL Values')\n",
        "# Set plot style\n",
        "sns.set()\n",
        "# Plot kernel density estimate with normalized histogram\n",
        "sns.distplot(reslist,bins=55)\n",
        "plt.axvline(x=np.mean(reslist),\n",
        "            color='blue', label='mean $\\mu$ = '+str(np.mean(reslist)))\n",
        "plt.legend()\n",
        "plt.ylabel('Density')\n",
        "plt.xlabel('Final PnL ')\n",
        "plt.show()"
      ]
    },
    {
      "cell_type": "markdown",
      "metadata": {
        "id": "HylCGORhidPn"
      },
      "source": [
        "![image.png](data:image/png;base64,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)"
      ]
    },
    {
      "cell_type": "markdown",
      "metadata": {
        "id": "Hj3DTCyWieC_"
      },
      "source": [
        "\n",
        "\n",
        "---\n",
        "\n",
        "\n",
        "The distributions are similar and both are Gaussian with the mean close to 65 and a notable skew, proof that the strategy is implemented correctly.\n",
        "Following, I plot the density and distribution of the final inventories resulting from the simulations.\n",
        "\n",
        "\n",
        "---\n",
        "\n",
        "\n",
        "\n",
        "\n"
      ]
    },
    {
      "cell_type": "code",
      "execution_count": null,
      "metadata": {
        "colab": {
          "base_uri": "https://localhost:8080/",
          "height": 574
        },
        "id": "FgaAg_N2cbor",
        "outputId": "23a7ea03-e3bb-4005-d0ec-3c5b65abec3a"
      },
      "outputs": [
        {
          "name": "stderr",
          "output_type": "stream",
          "text": [
            "/usr/local/lib/python3.7/dist-packages/seaborn/distributions.py:2619: FutureWarning: `distplot` is a deprecated function and will be removed in a future version. Please adapt your code to use either `displot` (a figure-level function with similar flexibility) or `histplot` (an axes-level function for histograms).\n",
            "  warnings.warn(msg, FutureWarning)\n"
          ]
        },
        {
          "data": {
            "image/png": "[encoded data removed]",
            "text/plain": [
              "<Figure size 1080x576 with 1 Axes>"
            ]
          },
          "metadata": {},
          "output_type": "display_data"
        }
      ],
      "source": [
        "plt.figure(figsize=(15,8))\n",
        "plt.title('Histogram and Kernel Density Estimate of Final Inventory Values')\n",
        "# Set plot style\n",
        "sns.set()\n",
        "# Plot kernel density estimate with normalized histogram\n",
        "sns.distplot(qlist,bins=19)\n",
        "plt.axvline(x=np.mean(qlist),\n",
        "            color='red', label='mean $\\mu$ = '+str(np.round(np.mean(qlist),2)))\n",
        "plt.legend()\n",
        "plt.ylabel('Density')\n",
        "plt.xlabel('Final Inventory Value')\n",
        "plt.show()"
      ]
    },
    {
      "cell_type": "markdown",
      "metadata": {
        "id": "ktja2NO_dA3k"
      },
      "source": [
        "\n",
        "\n",
        "---\n",
        "\n",
        "\n",
        "In the following graphs, instead , I plot the data relating to a single simulation of length N (the last one), in order to graphically display the information relating to the mid-price, the orders placed and those that have actually been filled. At the bottom instead, the inventory status at each timestep.\n",
        "\n",
        "It is important to note that, following the implementation logic of the reservation price, the strategy favors buy or sell orders based on the inventory. In the event of positive inventory, in fact, the sell orders are placed closer to the mid-price and vice versa.\n",
        "\n",
        "\n",
        "---\n",
        "\n",
        "\n",
        "\n"
      ]
    },
    {
      "cell_type": "code",
      "execution_count": null,
      "metadata": {
        "id": "oh8F_MrpctjD"
      },
      "outputs": [],
      "source": [
        "# Combine all our results into a single DataFrane\n",
        "res = pd.DataFrame([s_a, s, s_b], index=['sell limit orders', 'mid price', 'buy limit orders']).T\n",
        "\n",
        "res['sells']  = ((pd.Series(q).diff() < 0)[:-1] * s_a).replace(0,np.nan)\n",
        "res['buys']   = ((pd.Series(q).diff() > 0)[:-1] * s_b).replace(0,np.nan)\n"
      ]
    },
    {
      "cell_type": "code",
      "execution_count": null,
      "metadata": {
        "colab": {
          "base_uri": "https://localhost:8080/",
          "height": 610
        },
        "id": "krQBVvE7dGgz",
        "outputId": "09d8a0c6-0e8b-4c82-9f37-8980f0e68118"
      },
      "outputs": [
        {
          "data": {
            "image/png": "[encoded data removed]",
            "text/plain": [
              "<Figure size 1080x720 with 2 Axes>"
            ]
          },
          "metadata": {},
          "output_type": "display_data"
        }
      ],
      "source": [
        "fig = plt.figure(figsize=(15,10))\n",
        "\n",
        "spec = gridspec.GridSpec(ncols=1, nrows=2, wspace=0.5,\n",
        "                         hspace=0.5, height_ratios=[3, 1])\n",
        "\n",
        "fig.add_subplot(spec[0])\n",
        "# Plot limit orders and mid price\n",
        "plt.plot(res.iloc[:,0], color='grey',  label='Ask Limit Orders', ls=':')\n",
        "plt.plot(res.iloc[:,1], color='black', label='Mid Price')\n",
        "plt.plot(res.iloc[:,2], color='grey',  label='Bid Limit Orders', ls=':')\n",
        "# Add buys and sells\n",
        "plt.scatter(range(201), res.iloc[:,3], color='red', label='Sell Limit Order Filled')\n",
        "plt.scatter(range(201), res.iloc[:,4], color='green', label='Buy Limit Order Filled')\n",
        "plt.legend()\n",
        "plt.title('Trade History of a Single Simulation')\n",
        "fig.add_subplot(spec[1])\n",
        "plt.subplot(3,1,3)\n",
        "plt.bar(range(len(q)), q*(q>0), color='g', edgecolor='g')\n",
        "plt.bar(range(len(q)), q*(q<0), color='r', edgecolor='r')\n",
        "plt.title('Inventory')\n",
        "plt.show()"
      ]
    },
    {
      "cell_type": "markdown",
      "metadata": {
        "id": "dNAwu-SNdXu7"
      },
      "source": [
        "# Bitcoin Simulation Dataset\n"
      ]
    },
    {
      "cell_type": "markdown",
      "metadata": {
        "id": "vSl4l85Hu_-o"
      },
      "source": [
        "In this section I will proceed with a backtest of the strategy proposed in the Avellaneda and Stoikov's paper on Bitcoin.\n",
        "\n"
      ]
    },
    {
      "cell_type": "markdown",
      "metadata": {
        "id": "HBRmkDawwq8M"
      },
      "source": [
        "## Historical Price Data"
      ]
    },
    {
      "cell_type": "markdown",
      "metadata": {
        "id": "LRVEeWz5wtF3"
      },
      "source": [
        "\n",
        "\n",
        "---\n",
        "\n",
        "\n",
        "The historical price data used to carry out the backtest was downloaded by Kraken through the link provided in the assignment track. The CVS file is formatted as:\n",
        "*   Date (UNIX format)\n",
        "*   Asset Price\n",
        "*   Volume Exchanged\n",
        "\n",
        "\n",
        "---\n",
        "\n"
      ]
    },
    {
      "cell_type": "code",
      "execution_count": null,
      "metadata": {
        "colab": {
          "base_uri": "https://localhost:8080/"
        },
        "id": "asPeBJwFiuZb",
        "outputId": "98dc4da5-bab3-45ca-c26c-39d258fb55bc"
      },
      "outputs": [
        {
          "name": "stdout",
          "output_type": "stream",
          "text": [
            "BTCUSD.zip          100%[===================>] 854.29M   213MB/s    in 4.3s    \n"
          ]
        }
      ],
      "source": [
        "!wget -q --show-progress --load-cookies /tmp/cookies.txt \"https://docs.google.com/uc?export=download&confirm=$(wget --quiet --save-cookies /tmp/cookies.txt --keep-session-cookies --no-check-certificate 'https://docs.google.com/uc?export=download&id=1gB_dLWVq_IaSBLU03spuynmWr2ZDtJe4' -O- | sed -rn 's/.*confirm=([0-9A-Za-z_]+).*/\\1\\n/p')&id=1gB_dLWVq_IaSBLU03spuynmWr2ZDtJe4\" -O BTCUSD.zip && rm -rf /tmp/cookies.txt\n"
      ]
    },
    {
      "cell_type": "code",
      "execution_count": null,
      "metadata": {
        "colab": {
          "base_uri": "https://localhost:8080/"
        },
        "id": "R2E6GAGnjicb",
        "outputId": "7a55a079-b9e4-4bd8-a60d-fc95506c3b2f"
      },
      "outputs": [
        {
          "name": "stdout",
          "output_type": "stream",
          "text": [
            "Archive:  BTCUSD.zip\n",
            "  inflating: XBTAUD.csv              \n",
            "  inflating: XBTCAD.csv              \n",
            "  inflating: XBTCHF.csv              \n",
            "  inflating: XBTDAI.csv              \n",
            "  inflating: XBTEUR.csv              \n",
            "  inflating: XBTGBP.csv              \n",
            "  inflating: XBTJPY.csv              \n",
            "  inflating: XBTUSD.csv              \n",
            "  inflating: XBTUSDC.csv             \n",
            "  inflating: XBTUSDT.csv             \n"
          ]
        }
      ],
      "source": [
        "!unzip BTCUSD.zip"
      ]
    },
    {
      "cell_type": "code",
      "execution_count": null,
      "metadata": {
        "colab": {
          "base_uri": "https://localhost:8080/",
          "height": 206
        },
        "id": "-YPvBJPHhs8l",
        "outputId": "8efaf726-836a-493c-ba34-1e1eeed5b9b9"
      },
      "outputs": [
        {
          "data": {
            "text/html": [
              "\n",
              "  <div id=\"df-29e4286e-fdc8-4f3c-b396-349c4c5549dd\">\n",
              "    <div class=\"colab-df-container\">\n",
              "      <div>\n",
              "<style scoped>\n",
              "    .dataframe tbody tr th:only-of-type {\n",
              "        vertical-align: middle;\n",
              "    }\n",
              "\n",
              "    .dataframe tbody tr th {\n",
              "        vertical-align: top;\n",
              "    }\n",
              "\n",
              "    .dataframe thead th {\n",
              "        text-align: right;\n",
              "    }\n",
              "</style>\n",
              "<table border=\"1\" class=\"dataframe\">\n",
              "  <thead>\n",
              "    <tr style=\"text-align: right;\">\n",
              "      <th></th>\n",
              "      <th>Timestamp</th>\n",
              "      <th>Price</th>\n",
              "      <th>Volume</th>\n",
              "    </tr>\n",
              "  </thead>\n",
              "  <tbody>\n",
              "    <tr>\n",
              "      <th>0</th>\n",
              "      <td>2013-10-06 21:34:15</td>\n",
              "      <td>122.00</td>\n",
              "      <td>0.1000</td>\n",
              "    </tr>\n",
              "    <tr>\n",
              "      <th>1</th>\n",
              "      <td>2013-10-07 20:50:30</td>\n",
              "      <td>123.61</td>\n",
              "      <td>0.1000</td>\n",
              "    </tr>\n",
              "    <tr>\n",
              "      <th>2</th>\n",
              "      <td>2013-10-08 02:58:35</td>\n",
              "      <td>123.91</td>\n",
              "      <td>1.0000</td>\n",
              "    </tr>\n",
              "    <tr>\n",
              "      <th>3</th>\n",
              "      <td>2013-10-08 02:58:35</td>\n",
              "      <td>123.90</td>\n",
              "      <td>0.9916</td>\n",
              "    </tr>\n",
              "    <tr>\n",
              "      <th>4</th>\n",
              "      <td>2013-10-08 05:26:44</td>\n",
              "      <td>124.19</td>\n",
              "      <td>1.0000</td>\n",
              "    </tr>\n",
              "  </tbody>\n",
              "</table>\n",
              "</div>\n",
              "      <button class=\"colab-df-convert\" onclick=\"convertToInteractive('df-29e4286e-fdc8-4f3c-b396-349c4c5549dd')\"\n",
              "              title=\"Convert this dataframe to an interactive table.\"\n",
              "              style=\"display:none;\">\n",
              "        \n",
              "  <svg xmlns=\"http://www.w3.org/2000/svg\" height=\"24px\"viewBox=\"0 0 24 24\"\n",
              "       width=\"24px\">\n",
              "    <path d=\"M0 0h24v24H0V0z\" fill=\"none\"/>\n",
              "    <path d=\"M18.56 5.44l.94 2.06.94-2.06 2.06-.94-2.06-.94-.94-2.06-.94 2.06-2.06.94zm-11 1L8.5 8.5l.94-2.06 2.06-.94-2.06-.94L8.5 2.5l-.94 2.06-2.06.94zm10 10l.94 2.06.94-2.06 2.06-.94-2.06-.94-.94-2.06-.94 2.06-2.06.94z\"/><path d=\"M17.41 7.96l-1.37-1.37c-.4-.4-.92-.59-1.43-.59-.52 0-1.04.2-1.43.59L10.3 9.45l-7.72 7.72c-.78.78-.78 2.05 0 2.83L4 21.41c.39.39.9.59 1.41.59.51 0 1.02-.2 1.41-.59l7.78-7.78 2.81-2.81c.8-.78.8-2.07 0-2.86zM5.41 20L4 18.59l7.72-7.72 1.47 1.35L5.41 20z\"/>\n",
              "  </svg>\n",
              "      </button>\n",
              "      \n",
              "  <style>\n",
              "    .colab-df-container {\n",
              "      display:flex;\n",
              "      flex-wrap:wrap;\n",
              "      gap: 12px;\n",
              "    }\n",
              "\n",
              "    .colab-df-convert {\n",
              "      background-color: #E8F0FE;\n",
              "      border: none;\n",
              "      border-radius: 50%;\n",
              "      cursor: pointer;\n",
              "      display: none;\n",
              "      fill: #1967D2;\n",
              "      height: 32px;\n",
              "      padding: 0 0 0 0;\n",
              "      width: 32px;\n",
              "    }\n",
              "\n",
              "    .colab-df-convert:hover {\n",
              "      background-color: #E2EBFA;\n",
              "      box-shadow: 0px 1px 2px rgba(60, 64, 67, 0.3), 0px 1px 3px 1px rgba(60, 64, 67, 0.15);\n",
              "      fill: #174EA6;\n",
              "    }\n",
              "\n",
              "    [theme=dark] .colab-df-convert {\n",
              "      background-color: #3B4455;\n",
              "      fill: #D2E3FC;\n",
              "    }\n",
              "\n",
              "    [theme=dark] .colab-df-convert:hover {\n",
              "      background-color: #434B5C;\n",
              "      box-shadow: 0px 1px 3px 1px rgba(0, 0, 0, 0.15);\n",
              "      filter: drop-shadow(0px 1px 2px rgba(0, 0, 0, 0.3));\n",
              "      fill: #FFFFFF;\n",
              "    }\n",
              "  </style>\n",
              "\n",
              "      <script>\n",
              "        const buttonEl =\n",
              "          document.querySelector('#df-29e4286e-fdc8-4f3c-b396-349c4c5549dd button.colab-df-convert');\n",
              "        buttonEl.style.display =\n",
              "          google.colab.kernel.accessAllowed ? 'block' : 'none';\n",
              "\n",
              "        async function convertToInteractive(key) {\n",
              "          const element = document.querySelector('#df-29e4286e-fdc8-4f3c-b396-349c4c5549dd');\n",
              "          const dataTable =\n",
              "            await google.colab.kernel.invokeFunction('convertToInteractive',\n",
              "                                                     [key], {});\n",
              "          if (!dataTable) return;\n",
              "\n",
              "          const docLinkHtml = 'Like what you see? Visit the ' +\n",
              "            '<a target=\"_blank\" href=https://colab.research.google.com/notebooks/data_table.ipynb>data table notebook</a>'\n",
              "            + ' to learn more about interactive tables.';\n",
              "          element.innerHTML = '';\n",
              "          dataTable['output_type'] = 'display_data';\n",
              "          await google.colab.output.renderOutput(dataTable, element);\n",
              "          const docLink = document.createElement('div');\n",
              "          docLink.innerHTML = docLinkHtml;\n",
              "          element.appendChild(docLink);\n",
              "        }\n",
              "      </script>\n",
              "    </div>\n",
              "  </div>\n",
              "  "
            ],
            "text/plain": [
              "            Timestamp   Price  Volume\n",
              "0 2013-10-06 21:34:15  122.00  0.1000\n",
              "1 2013-10-07 20:50:30  123.61  0.1000\n",
              "2 2013-10-08 02:58:35  123.91  1.0000\n",
              "3 2013-10-08 02:58:35  123.90  0.9916\n",
              "4 2013-10-08 05:26:44  124.19  1.0000"
            ]
          },
          "execution_count": 16,
          "metadata": {},
          "output_type": "execute_result"
        }
      ],
      "source": [
        "temp = pd.read_csv('XBTUSD.csv', header=None)\n",
        "temp.columns = ['Timestamp', 'Price', 'Volume']\n",
        "temp['Timestamp'] = pd.to_datetime(temp['Timestamp'], unit='s')\n",
        "temp.head()"
      ]
    },
    {
      "cell_type": "code",
      "execution_count": null,
      "metadata": {
        "id": "aGsylrbpkKnL"
      },
      "outputs": [],
      "source": [
        "temp = temp.set_index('Timestamp')"
      ]
    },
    {
      "cell_type": "markdown",
      "metadata": {
        "id": "ulrntdUtwu78"
      },
      "source": [
        "## Orderbook Data"
      ]
    },
    {
      "cell_type": "markdown",
      "metadata": {
        "id": "hMM650YsOs3S"
      },
      "source": [
        "As for the dataset related to the orderbook, I found it on this Kaggle repository:\n",
        "https://www.kaggle.com/datasets/martinsn/high-frequency-crypto-limit-order-book-data?resource=download&select=ADA_1sec.csv\n",
        "The dataset was uploaded to the drive to make the code easily re-executable."
      ]
    },
    {
      "cell_type": "code",
      "execution_count": null,
      "metadata": {
        "colab": {
          "base_uri": "https://localhost:8080/"
        },
        "id": "gnqrVyhuOuxx",
        "outputId": "04e9f95f-0599-44d8-8433-936f055dab04"
      },
      "outputs": [
        {
          "name": "stdout",
          "output_type": "stream",
          "text": [
            "BTCBook.zip         100%[===================>] 316.93M   212MB/s    in 1.5s    \n"
          ]
        }
      ],
      "source": [
        "!wget -q --show-progress --load-cookies /tmp/cookies.txt \"https://docs.google.com/uc?export=download&confirm=$(wget --quiet --save-cookies /tmp/cookies.txt --keep-session-cookies --no-check-certificate 'https://docs.google.com/uc?export=download&id=1XFdxPmewqqs5Nwxz7rUtnIGq8_LyclFg' -O- | sed -rn 's/.*confirm=([0-9A-Za-z_]+).*/\\1\\n/p')&id=1XFdxPmewqqs5Nwxz7rUtnIGq8_LyclFg\" -O BTCBook.zip && rm -rf /tmp/cookies.txt\n"
      ]
    },
    {
      "cell_type": "code",
      "execution_count": null,
      "metadata": {
        "colab": {
          "base_uri": "https://localhost:8080/"
        },
        "id": "c-3fdpnbO6Yy",
        "outputId": "1e33f7f0-348b-46e2-c375-6d155cd6afca"
      },
      "outputs": [
        {
          "name": "stdout",
          "output_type": "stream",
          "text": [
            "Archive:  BTCBook.zip\n",
            "  inflating: BTC_1sec.csv            \n"
          ]
        }
      ],
      "source": [
        "!unzip BTCBook.zip"
      ]
    },
    {
      "cell_type": "code",
      "execution_count": null,
      "metadata": {
        "colab": {
          "base_uri": "https://localhost:8080/",
          "height": 404
        },
        "id": "lM-Nmy20P_Al",
        "outputId": "2c1a4bf0-77cb-4484-88a6-2d859dc97c69"
      },
      "outputs": [
        {
          "data": {
            "text/html": [
              "\n",
              "  <div id=\"df-6a8bf8cb-049d-4afe-a40d-43160b182657\">\n",
              "    <div class=\"colab-df-container\">\n",
              "      <div>\n",
              "<style scoped>\n",
              "    .dataframe tbody tr th:only-of-type {\n",
              "        vertical-align: middle;\n",
              "    }\n",
              "\n",
              "    .dataframe tbody tr th {\n",
              "        vertical-align: top;\n",
              "    }\n",
              "\n",
              "    .dataframe thead th {\n",
              "        text-align: right;\n",
              "    }\n",
              "</style>\n",
              "<table border=\"1\" class=\"dataframe\">\n",
              "  <thead>\n",
              "    <tr style=\"text-align: right;\">\n",
              "      <th></th>\n",
              "      <th>Unnamed: 0</th>\n",
              "      <th>system_time</th>\n",
              "      <th>midpoint</th>\n",
              "      <th>spread</th>\n",
              "      <th>buys</th>\n",
              "      <th>sells</th>\n",
              "      <th>bids_distance_0</th>\n",
              "      <th>bids_distance_1</th>\n",
              "      <th>bids_distance_2</th>\n",
              "      <th>bids_distance_3</th>\n",
              "      <th>...</th>\n",
              "      <th>asks_market_notional_5</th>\n",
              "      <th>asks_market_notional_6</th>\n",
              "      <th>asks_market_notional_7</th>\n",
              "      <th>asks_market_notional_8</th>\n",
              "      <th>asks_market_notional_9</th>\n",
              "      <th>asks_market_notional_10</th>\n",
              "      <th>asks_market_notional_11</th>\n",
              "      <th>asks_market_notional_12</th>\n",
              "      <th>asks_market_notional_13</th>\n",
              "      <th>asks_market_notional_14</th>\n",
              "    </tr>\n",
              "  </thead>\n",
              "  <tbody>\n",
              "    <tr>\n",
              "      <th>0</th>\n",
              "      <td>0</td>\n",
              "      <td>2021-04-07 11:32:42.122161+00:00</td>\n",
              "      <td>56035.995</td>\n",
              "      <td>0.01</td>\n",
              "      <td>0.0</td>\n",
              "      <td>0.0</td>\n",
              "      <td>-8.922836e-08</td>\n",
              "      <td>-2.676851e-07</td>\n",
              "      <td>-0.00005</td>\n",
              "      <td>-0.000245</td>\n",
              "      <td>...</td>\n",
              "      <td>0.0</td>\n",
              "      <td>0.0</td>\n",
              "      <td>0.0</td>\n",
              "      <td>0.0</td>\n",
              "      <td>0.0</td>\n",
              "      <td>0.0</td>\n",
              "      <td>0.0</td>\n",
              "      <td>0.0</td>\n",
              "      <td>0.0</td>\n",
              "      <td>0.0</td>\n",
              "    </tr>\n",
              "    <tr>\n",
              "      <th>1</th>\n",
              "      <td>1</td>\n",
              "      <td>2021-04-07 11:32:43.122161+00:00</td>\n",
              "      <td>56035.995</td>\n",
              "      <td>0.01</td>\n",
              "      <td>0.0</td>\n",
              "      <td>0.0</td>\n",
              "      <td>-8.922836e-08</td>\n",
              "      <td>-2.676851e-07</td>\n",
              "      <td>-0.00005</td>\n",
              "      <td>-0.000245</td>\n",
              "      <td>...</td>\n",
              "      <td>0.0</td>\n",
              "      <td>0.0</td>\n",
              "      <td>0.0</td>\n",
              "      <td>0.0</td>\n",
              "      <td>0.0</td>\n",
              "      <td>0.0</td>\n",
              "      <td>0.0</td>\n",
              "      <td>0.0</td>\n",
              "      <td>0.0</td>\n",
              "      <td>0.0</td>\n",
              "    </tr>\n",
              "    <tr>\n",
              "      <th>2</th>\n",
              "      <td>2</td>\n",
              "      <td>2021-04-07 11:32:44.122161+00:00</td>\n",
              "      <td>56035.995</td>\n",
              "      <td>0.01</td>\n",
              "      <td>0.0</td>\n",
              "      <td>0.0</td>\n",
              "      <td>-8.922836e-08</td>\n",
              "      <td>-2.676851e-07</td>\n",
              "      <td>-0.00005</td>\n",
              "      <td>-0.000245</td>\n",
              "      <td>...</td>\n",
              "      <td>0.0</td>\n",
              "      <td>0.0</td>\n",
              "      <td>0.0</td>\n",
              "      <td>0.0</td>\n",
              "      <td>0.0</td>\n",
              "      <td>0.0</td>\n",
              "      <td>0.0</td>\n",
              "      <td>0.0</td>\n",
              "      <td>0.0</td>\n",
              "      <td>0.0</td>\n",
              "    </tr>\n",
              "    <tr>\n",
              "      <th>3</th>\n",
              "      <td>3</td>\n",
              "      <td>2021-04-07 11:32:45.122161+00:00</td>\n",
              "      <td>56035.995</td>\n",
              "      <td>0.01</td>\n",
              "      <td>0.0</td>\n",
              "      <td>0.0</td>\n",
              "      <td>-8.922836e-08</td>\n",
              "      <td>-2.676851e-07</td>\n",
              "      <td>-0.00005</td>\n",
              "      <td>-0.000245</td>\n",
              "      <td>...</td>\n",
              "      <td>0.0</td>\n",
              "      <td>0.0</td>\n",
              "      <td>0.0</td>\n",
              "      <td>0.0</td>\n",
              "      <td>0.0</td>\n",
              "      <td>0.0</td>\n",
              "      <td>0.0</td>\n",
              "      <td>0.0</td>\n",
              "      <td>0.0</td>\n",
              "      <td>0.0</td>\n",
              "    </tr>\n",
              "    <tr>\n",
              "      <th>4</th>\n",
              "      <td>4</td>\n",
              "      <td>2021-04-07 11:32:46.122161+00:00</td>\n",
              "      <td>56035.995</td>\n",
              "      <td>0.01</td>\n",
              "      <td>0.0</td>\n",
              "      <td>0.0</td>\n",
              "      <td>-8.922836e-08</td>\n",
              "      <td>-2.676851e-07</td>\n",
              "      <td>-0.00005</td>\n",
              "      <td>-0.000245</td>\n",
              "      <td>...</td>\n",
              "      <td>0.0</td>\n",
              "      <td>0.0</td>\n",
              "      <td>0.0</td>\n",
              "      <td>0.0</td>\n",
              "      <td>0.0</td>\n",
              "      <td>0.0</td>\n",
              "      <td>0.0</td>\n",
              "      <td>0.0</td>\n",
              "      <td>0.0</td>\n",
              "      <td>0.0</td>\n",
              "    </tr>\n",
              "  </tbody>\n",
              "</table>\n",
              "<p>5 rows × 156 columns</p>\n",
              "</div>\n",
              "      <button class=\"colab-df-convert\" onclick=\"convertToInteractive('df-6a8bf8cb-049d-4afe-a40d-43160b182657')\"\n",
              "              title=\"Convert this dataframe to an interactive table.\"\n",
              "              style=\"display:none;\">\n",
              "        \n",
              "  <svg xmlns=\"http://www.w3.org/2000/svg\" height=\"24px\"viewBox=\"0 0 24 24\"\n",
              "       width=\"24px\">\n",
              "    <path d=\"M0 0h24v24H0V0z\" fill=\"none\"/>\n",
              "    <path d=\"M18.56 5.44l.94 2.06.94-2.06 2.06-.94-2.06-.94-.94-2.06-.94 2.06-2.06.94zm-11 1L8.5 8.5l.94-2.06 2.06-.94-2.06-.94L8.5 2.5l-.94 2.06-2.06.94zm10 10l.94 2.06.94-2.06 2.06-.94-2.06-.94-.94-2.06-.94 2.06-2.06.94z\"/><path d=\"M17.41 7.96l-1.37-1.37c-.4-.4-.92-.59-1.43-.59-.52 0-1.04.2-1.43.59L10.3 9.45l-7.72 7.72c-.78.78-.78 2.05 0 2.83L4 21.41c.39.39.9.59 1.41.59.51 0 1.02-.2 1.41-.59l7.78-7.78 2.81-2.81c.8-.78.8-2.07 0-2.86zM5.41 20L4 18.59l7.72-7.72 1.47 1.35L5.41 20z\"/>\n",
              "  </svg>\n",
              "      </button>\n",
              "      \n",
              "  <style>\n",
              "    .colab-df-container {\n",
              "      display:flex;\n",
              "      flex-wrap:wrap;\n",
              "      gap: 12px;\n",
              "    }\n",
              "\n",
              "    .colab-df-convert {\n",
              "      background-color: #E8F0FE;\n",
              "      border: none;\n",
              "      border-radius: 50%;\n",
              "      cursor: pointer;\n",
              "      display: none;\n",
              "      fill: #1967D2;\n",
              "      height: 32px;\n",
              "      padding: 0 0 0 0;\n",
              "      width: 32px;\n",
              "    }\n",
              "\n",
              "    .colab-df-convert:hover {\n",
              "      background-color: #E2EBFA;\n",
              "      box-shadow: 0px 1px 2px rgba(60, 64, 67, 0.3), 0px 1px 3px 1px rgba(60, 64, 67, 0.15);\n",
              "      fill: #174EA6;\n",
              "    }\n",
              "\n",
              "    [theme=dark] .colab-df-convert {\n",
              "      background-color: #3B4455;\n",
              "      fill: #D2E3FC;\n",
              "    }\n",
              "\n",
              "    [theme=dark] .colab-df-convert:hover {\n",
              "      background-color: #434B5C;\n",
              "      box-shadow: 0px 1px 3px 1px rgba(0, 0, 0, 0.15);\n",
              "      filter: drop-shadow(0px 1px 2px rgba(0, 0, 0, 0.3));\n",
              "      fill: #FFFFFF;\n",
              "    }\n",
              "  </style>\n",
              "\n",
              "      <script>\n",
              "        const buttonEl =\n",
              "          document.querySelector('#df-6a8bf8cb-049d-4afe-a40d-43160b182657 button.colab-df-convert');\n",
              "        buttonEl.style.display =\n",
              "          google.colab.kernel.accessAllowed ? 'block' : 'none';\n",
              "\n",
              "        async function convertToInteractive(key) {\n",
              "          const element = document.querySelector('#df-6a8bf8cb-049d-4afe-a40d-43160b182657');\n",
              "          const dataTable =\n",
              "            await google.colab.kernel.invokeFunction('convertToInteractive',\n",
              "                                                     [key], {});\n",
              "          if (!dataTable) return;\n",
              "\n",
              "          const docLinkHtml = 'Like what you see? Visit the ' +\n",
              "            '<a target=\"_blank\" href=https://colab.research.google.com/notebooks/data_table.ipynb>data table notebook</a>'\n",
              "            + ' to learn more about interactive tables.';\n",
              "          element.innerHTML = '';\n",
              "          dataTable['output_type'] = 'display_data';\n",
              "          await google.colab.output.renderOutput(dataTable, element);\n",
              "          const docLink = document.createElement('div');\n",
              "          docLink.innerHTML = docLinkHtml;\n",
              "          element.appendChild(docLink);\n",
              "        }\n",
              "      </script>\n",
              "    </div>\n",
              "  </div>\n",
              "  "
            ],
            "text/plain": [
              "   Unnamed: 0                       system_time   midpoint  spread  buys  \\\n",
              "0           0  2021-04-07 11:32:42.122161+00:00  56035.995    0.01   0.0   \n",
              "1           1  2021-04-07 11:32:43.122161+00:00  56035.995    0.01   0.0   \n",
              "2           2  2021-04-07 11:32:44.122161+00:00  56035.995    0.01   0.0   \n",
              "3           3  2021-04-07 11:32:45.122161+00:00  56035.995    0.01   0.0   \n",
              "4           4  2021-04-07 11:32:46.122161+00:00  56035.995    0.01   0.0   \n",
              "\n",
              "   sells  bids_distance_0  bids_distance_1  bids_distance_2  bids_distance_3  \\\n",
              "0    0.0    -8.922836e-08    -2.676851e-07         -0.00005        -0.000245   \n",
              "1    0.0    -8.922836e-08    -2.676851e-07         -0.00005        -0.000245   \n",
              "2    0.0    -8.922836e-08    -2.676851e-07         -0.00005        -0.000245   \n",
              "3    0.0    -8.922836e-08    -2.676851e-07         -0.00005        -0.000245   \n",
              "4    0.0    -8.922836e-08    -2.676851e-07         -0.00005        -0.000245   \n",
              "\n",
              "   ...  asks_market_notional_5  asks_market_notional_6  \\\n",
              "0  ...                     0.0                     0.0   \n",
              "1  ...                     0.0                     0.0   \n",
              "2  ...                     0.0                     0.0   \n",
              "3  ...                     0.0                     0.0   \n",
              "4  ...                     0.0                     0.0   \n",
              "\n",
              "   asks_market_notional_7  asks_market_notional_8  asks_market_notional_9  \\\n",
              "0                     0.0                     0.0                     0.0   \n",
              "1                     0.0                     0.0                     0.0   \n",
              "2                     0.0                     0.0                     0.0   \n",
              "3                     0.0                     0.0                     0.0   \n",
              "4                     0.0                     0.0                     0.0   \n",
              "\n",
              "   asks_market_notional_10  asks_market_notional_11  asks_market_notional_12  \\\n",
              "0                      0.0                      0.0                      0.0   \n",
              "1                      0.0                      0.0                      0.0   \n",
              "2                      0.0                      0.0                      0.0   \n",
              "3                      0.0                      0.0                      0.0   \n",
              "4                      0.0                      0.0                      0.0   \n",
              "\n",
              "   asks_market_notional_13  asks_market_notional_14  \n",
              "0                      0.0                      0.0  \n",
              "1                      0.0                      0.0  \n",
              "2                      0.0                      0.0  \n",
              "3                      0.0                      0.0  \n",
              "4                      0.0                      0.0  \n",
              "\n",
              "[5 rows x 156 columns]"
            ]
          },
          "execution_count": 20,
          "metadata": {},
          "output_type": "execute_result"
        }
      ],
      "source": [
        "BTC_mid = pd.read_csv('BTC_1sec.csv')\n",
        "BTC_mid.head()"
      ]
    },
    {
      "cell_type": "markdown",
      "metadata": {
        "id": "WcuEXf4wysO1"
      },
      "source": [
        "\n",
        "For this simulation, we will only need the \"*system_time*\" and \"*midpoint*\" columns. The remaining columns have then been dropped.\n",
        "In addition, although I recognize that in real operation the maximum granularity of the data is preferred,for the sake of this assignment to align the dataset to the Kraken dataset, I have removed the milliseconds."
      ]
    },
    {
      "cell_type": "code",
      "execution_count": null,
      "metadata": {
        "colab": {
          "base_uri": "https://localhost:8080/",
          "height": 237
        },
        "id": "lo-4vdBQQPGg",
        "outputId": "e8774e64-3790-4978-9da4-ed108257e896"
      },
      "outputs": [
        {
          "data": {
            "text/html": [
              "\n",
              "  <div id=\"df-8f723eab-0e85-48bd-8b87-aa5cd1d7ead0\">\n",
              "    <div class=\"colab-df-container\">\n",
              "      <div>\n",
              "<style scoped>\n",
              "    .dataframe tbody tr th:only-of-type {\n",
              "        vertical-align: middle;\n",
              "    }\n",
              "\n",
              "    .dataframe tbody tr th {\n",
              "        vertical-align: top;\n",
              "    }\n",
              "\n",
              "    .dataframe thead th {\n",
              "        text-align: right;\n",
              "    }\n",
              "</style>\n",
              "<table border=\"1\" class=\"dataframe\">\n",
              "  <thead>\n",
              "    <tr style=\"text-align: right;\">\n",
              "      <th></th>\n",
              "      <th>midpoint</th>\n",
              "    </tr>\n",
              "    <tr>\n",
              "      <th>system_time</th>\n",
              "      <th></th>\n",
              "    </tr>\n",
              "  </thead>\n",
              "  <tbody>\n",
              "    <tr>\n",
              "      <th>2021-04-07 11:32:42</th>\n",
              "      <td>56035.995</td>\n",
              "    </tr>\n",
              "    <tr>\n",
              "      <th>2021-04-07 11:32:43</th>\n",
              "      <td>56035.995</td>\n",
              "    </tr>\n",
              "    <tr>\n",
              "      <th>2021-04-07 11:32:44</th>\n",
              "      <td>56035.995</td>\n",
              "    </tr>\n",
              "    <tr>\n",
              "      <th>2021-04-07 11:32:45</th>\n",
              "      <td>56035.995</td>\n",
              "    </tr>\n",
              "    <tr>\n",
              "      <th>2021-04-07 11:32:46</th>\n",
              "      <td>56035.995</td>\n",
              "    </tr>\n",
              "  </tbody>\n",
              "</table>\n",
              "</div>\n",
              "      <button class=\"colab-df-convert\" onclick=\"convertToInteractive('df-8f723eab-0e85-48bd-8b87-aa5cd1d7ead0')\"\n",
              "              title=\"Convert this dataframe to an interactive table.\"\n",
              "              style=\"display:none;\">\n",
              "        \n",
              "  <svg xmlns=\"http://www.w3.org/2000/svg\" height=\"24px\"viewBox=\"0 0 24 24\"\n",
              "       width=\"24px\">\n",
              "    <path d=\"M0 0h24v24H0V0z\" fill=\"none\"/>\n",
              "    <path d=\"M18.56 5.44l.94 2.06.94-2.06 2.06-.94-2.06-.94-.94-2.06-.94 2.06-2.06.94zm-11 1L8.5 8.5l.94-2.06 2.06-.94-2.06-.94L8.5 2.5l-.94 2.06-2.06.94zm10 10l.94 2.06.94-2.06 2.06-.94-2.06-.94-.94-2.06-.94 2.06-2.06.94z\"/><path d=\"M17.41 7.96l-1.37-1.37c-.4-.4-.92-.59-1.43-.59-.52 0-1.04.2-1.43.59L10.3 9.45l-7.72 7.72c-.78.78-.78 2.05 0 2.83L4 21.41c.39.39.9.59 1.41.59.51 0 1.02-.2 1.41-.59l7.78-7.78 2.81-2.81c.8-.78.8-2.07 0-2.86zM5.41 20L4 18.59l7.72-7.72 1.47 1.35L5.41 20z\"/>\n",
              "  </svg>\n",
              "      </button>\n",
              "      \n",
              "  <style>\n",
              "    .colab-df-container {\n",
              "      display:flex;\n",
              "      flex-wrap:wrap;\n",
              "      gap: 12px;\n",
              "    }\n",
              "\n",
              "    .colab-df-convert {\n",
              "      background-color: #E8F0FE;\n",
              "      border: none;\n",
              "      border-radius: 50%;\n",
              "      cursor: pointer;\n",
              "      display: none;\n",
              "      fill: #1967D2;\n",
              "      height: 32px;\n",
              "      padding: 0 0 0 0;\n",
              "      width: 32px;\n",
              "    }\n",
              "\n",
              "    .colab-df-convert:hover {\n",
              "      background-color: #E2EBFA;\n",
              "      box-shadow: 0px 1px 2px rgba(60, 64, 67, 0.3), 0px 1px 3px 1px rgba(60, 64, 67, 0.15);\n",
              "      fill: #174EA6;\n",
              "    }\n",
              "\n",
              "    [theme=dark] .colab-df-convert {\n",
              "      background-color: #3B4455;\n",
              "      fill: #D2E3FC;\n",
              "    }\n",
              "\n",
              "    [theme=dark] .colab-df-convert:hover {\n",
              "      background-color: #434B5C;\n",
              "      box-shadow: 0px 1px 3px 1px rgba(0, 0, 0, 0.15);\n",
              "      filter: drop-shadow(0px 1px 2px rgba(0, 0, 0, 0.3));\n",
              "      fill: #FFFFFF;\n",
              "    }\n",
              "  </style>\n",
              "\n",
              "      <script>\n",
              "        const buttonEl =\n",
              "          document.querySelector('#df-8f723eab-0e85-48bd-8b87-aa5cd1d7ead0 button.colab-df-convert');\n",
              "        buttonEl.style.display =\n",
              "          google.colab.kernel.accessAllowed ? 'block' : 'none';\n",
              "\n",
              "        async function convertToInteractive(key) {\n",
              "          const element = document.querySelector('#df-8f723eab-0e85-48bd-8b87-aa5cd1d7ead0');\n",
              "          const dataTable =\n",
              "            await google.colab.kernel.invokeFunction('convertToInteractive',\n",
              "                                                     [key], {});\n",
              "          if (!dataTable) return;\n",
              "\n",
              "          const docLinkHtml = 'Like what you see? Visit the ' +\n",
              "            '<a target=\"_blank\" href=https://colab.research.google.com/notebooks/data_table.ipynb>data table notebook</a>'\n",
              "            + ' to learn more about interactive tables.';\n",
              "          element.innerHTML = '';\n",
              "          dataTable['output_type'] = 'display_data';\n",
              "          await google.colab.output.renderOutput(dataTable, element);\n",
              "          const docLink = document.createElement('div');\n",
              "          docLink.innerHTML = docLinkHtml;\n",
              "          element.appendChild(docLink);\n",
              "        }\n",
              "      </script>\n",
              "    </div>\n",
              "  </div>\n",
              "  "
            ],
            "text/plain": [
              "                      midpoint\n",
              "system_time                   \n",
              "2021-04-07 11:32:42  56035.995\n",
              "2021-04-07 11:32:43  56035.995\n",
              "2021-04-07 11:32:44  56035.995\n",
              "2021-04-07 11:32:45  56035.995\n",
              "2021-04-07 11:32:46  56035.995"
            ]
          },
          "execution_count": 21,
          "metadata": {},
          "output_type": "execute_result"
        }
      ],
      "source": [
        "BTC_mid['system_time'] = pd.to_datetime(BTC_mid['system_time'])\n",
        "BTC_mid = BTC_mid.loc[:,['system_time', 'midpoint']]\n",
        "\n",
        "list_of_dates = BTC_mid['system_time'].dt.date.unique().tolist()\n",
        "\n",
        "BTC_mid = BTC_mid.set_index('system_time')\n",
        "BTC_mid.index = pd.to_datetime(BTC_mid.index.strftime('%Y-%m-%d %H:%M:%S'))\n",
        "BTC_mid = BTC_mid.resample('S').ffill()\n",
        "BTC_mid.head()"
      ]
    },
    {
      "cell_type": "markdown",
      "metadata": {
        "id": "o2v8E1ZmRQfj"
      },
      "source": [
        "# Implementation of Avellaneda-Stoikov's Strategy to Bitcoin Data"
      ]
    },
    {
      "cell_type": "markdown",
      "metadata": {
        "id": "i9nX9D1tt4UF"
      },
      "source": [
        "In this backtest we will use real market data to evaluate the performance of the avellaneda-stoikov strategy.\n",
        "Given the limited time available, I will assume that:\n",
        "*   All of the orders of size 1 get filled.\n",
        "*   All our order gets filled first, and fully filled.\n",
        "\n"
      ]
    },
    {
      "cell_type": "code",
      "execution_count": null,
      "metadata": {
        "id": "mKvz0UPIRbcd"
      },
      "outputs": [],
      "source": [
        "def run_backtest(s, m, gamma, A, k, sigma):\n",
        "    N = 60*60*24\n",
        "    T = 1\n",
        "    dt = T/N\n",
        "\n",
        "    # Initialize empty array for pnl\n",
        "    pnl = np.zeros(N+1)\n",
        "\n",
        "    # Inventory\n",
        "    q = np.zeros(N+1)\n",
        "\n",
        "    # Capital\n",
        "    x = np.zeros(N+1)\n",
        "\n",
        "    # Spread\n",
        "    spr = np.zeros(N+1)\n",
        "\n",
        "    # Ask limit orders\n",
        "    r_a = np.zeros(N+1)\n",
        "\n",
        "    # Reserve price\n",
        "    r = np.zeros(N+1)\n",
        "\n",
        "    # Bid limit orders\n",
        "    r_b = np.zeros(N+1)\n",
        "\n",
        "    # Get market orders for next day, low market is lowest\n",
        "    # price of market order submitted in 1-sec\n",
        "    low_mkt = m.resample('S').min().reindex(s.index)\n",
        "\n",
        "    # hi market is highest price of market order submitted\n",
        "    # in 1-sec\n",
        "    hi_mkt = m.resample('S').max().reindex(s.index)\n",
        "\n",
        "    # Iterate through each second\n",
        "    for i in range(len(s)):\n",
        "\n",
        "        # Find the date for the given iteration\n",
        "        date = s.index[i]\n",
        "\n",
        "        # Calculate our reservation price\n",
        "        r[i] = s[i] - q[i] * gamma * sigma**2 * (T-i*dt)\n",
        "\n",
        "        # Calculate our spread\n",
        "        spread = gamma * sigma**2 * (T - i * dt) + (2 / gamma) * np.log(1 + (gamma / k))\n",
        "        spr[i] = spread\n",
        "        spread = spread / 2\n",
        "\n",
        "        # Adjust spreads for gap between reserve price\n",
        "        # and asset mid-price\n",
        "        gap = np.abs(r[i] - s[i])\n",
        "\n",
        "        # Define the distance between r[i] and our limit orders\n",
        "        if r[i] >= s[i]:\n",
        "            delta_a = spread + gap\n",
        "            delta_b = spread - gap\n",
        "        else:\n",
        "            delta_a = spread - gap\n",
        "            delta_b = spread + gap\n",
        "\n",
        "        # Define our limit orders\n",
        "        r_a[i] = r[i] + delta_a\n",
        "        r_b[i] = r[i] - delta_b\n",
        "\n",
        "        # Do not buy or sell unless we get a feasible market order\n",
        "        sell = 0\n",
        "        buy  = 0\n",
        "\n",
        "        # If a market order is higher than our ask price, sell 1 unit\n",
        "        if hi_mkt.loc[:,'Price'].values[i] > r_a[i]:\n",
        "            sell = 1\n",
        "\n",
        "        # If a market order is lower than our bid price, buy 1 unit\n",
        "        if low_mkt.loc[:,'Price'].values[i] < r_b[i]:\n",
        "            buy = 1\n",
        "\n",
        "        # Adjust inventory to reflect transactions\n",
        "        q[i+1] = q[i] + buy - sell\n",
        "\n",
        "        #     # Calculate new capital\n",
        "        x[i+1] = x[i] + sell*(s[i]+delta_a) - buy*(s[i]-delta_b)\n",
        "\n",
        "        #     # Calculate pnl of assets\n",
        "        pnl[i+1] = x[i+1] + q[i+1]*s[i]\n",
        "\n",
        "    return {'pnl':pnl, 'x':x, 'q':q, 'spread':spr, 'r':r, 'r_a':r_a, 'r_b':r_b}"
      ]
    },
    {
      "cell_type": "markdown",
      "metadata": {
        "id": "GNV-fqTiReTB"
      },
      "source": [
        "## Parameters estimation - Volatility σ:"
      ]
    },
    {
      "cell_type": "markdown",
      "metadata": {
        "id": "gH2dz_WqRvLl"
      },
      "source": [
        "One of the most important measures of an asset is its volatility. Under the assumptions of the model, $\\sigma$ is the diffusion factor of a Brownian Motion. Therefore, once we are given price data, we can develop a naive estimate of an asset's $\\sigma$ by calculating the standard deviation of the previous days' price movements.  we use log-returns to calculate volatility i.e.\n",
        "\n",
        "$$\n",
        "\\begin{aligned}\n",
        "\\text{Log Return} &= \\ln\\left(\\frac{p_t}{p_{t-1}}\\right) = \\ln\\left(p_t\\right) - \\ln\\left(p_{t-1}\\right)\\\\\n",
        "\\\\\n",
        "\\Rightarrow \\sigma &= \\frac{\\sqrt{\\sum\\ln^2 \\left(\\frac{S_{i+1}}{S_i}\\right)}}{\\sqrt{N-1}} \\sqrt{60\\cdot60\\cdot24}\\\\\n",
        "\\end{aligned}\n",
        "$$\n",
        "\n",
        "\n",
        "In order to smooth the process and remove outliers, I will compute a 7-days moving average."
      ]
    },
    {
      "cell_type": "code",
      "execution_count": null,
      "metadata": {
        "colab": {
          "base_uri": "https://localhost:8080/"
        },
        "id": "MC1TNq1cRsNN",
        "outputId": "07f8ba59-5ba8-4ebc-d594-b51ec9368773"
      },
      "outputs": [
        {
          "data": {
            "text/plain": [
              "Timestamp\n",
              "2013-10-07         NaN\n",
              "2013-10-08    0.417870\n",
              "2013-10-09    0.325551\n",
              "2013-10-10    1.326991\n",
              "2013-10-11    1.326991\n",
              "                ...   \n",
              "2022-03-27    0.036402\n",
              "2022-03-28    0.033890\n",
              "2022-03-29    0.030502\n",
              "2022-03-30    0.029914\n",
              "2022-03-31    0.028299\n",
              "Freq: D, Name: Price, Length: 3098, dtype: float64"
            ]
          },
          "execution_count": 24,
          "metadata": {},
          "output_type": "execute_result"
        }
      ],
      "source": [
        "# Calculate the stds\n",
        "std = (np.log(temp.loc[:,'Price']).diff() # Difference the log prices\n",
        "                                  .dropna() # Remove any NaNs\n",
        "                                  .groupby(pd.Grouper(freq='1D')).std() # Calculate the std for each day\n",
        "                                  .rolling('7D').mean()) # Compute the rolling 7-D average of these\n",
        "\n",
        "# Scale accordingly\n",
        "std = std * np.sqrt(60*60*24)\n",
        "std"
      ]
    },
    {
      "cell_type": "code",
      "execution_count": null,
      "metadata": {
        "colab": {
          "base_uri": "https://localhost:8080/"
        },
        "id": "lRIKjKNOSAYs",
        "outputId": "14ec6da1-4e26-4b68-fb85-2410fb1f6ca0"
      },
      "outputs": [
        {
          "data": {
            "text/plain": [
              "[0.029194138465388188,\n",
              " 0.028631046439029778,\n",
              " 0.028844249501970252,\n",
              " 0.03063668959581363,\n",
              " 0.030599255684546103,\n",
              " 0.03133843124808907,\n",
              " 0.03133920828034412,\n",
              " 0.032494578873549874,\n",
              " 0.03270284199324815,\n",
              " 0.03243235492032015,\n",
              " 0.029706283303584706,\n",
              " 0.055184096382686926,\n",
              " 0.05664132362241363]"
            ]
          },
          "execution_count": 25,
          "metadata": {},
          "output_type": "execute_result"
        }
      ],
      "source": [
        "sigmalist = [std[d.strftime('%Y-%m-%d')] for d in list_of_dates]\n",
        "sigmalist"
      ]
    },
    {
      "cell_type": "markdown",
      "metadata": {
        "id": "3acEW3vnSDT2"
      },
      "source": [
        "## Parameters Estimation A and K:"
      ]
    },
    {
      "cell_type": "markdown",
      "metadata": {
        "id": "8H1Vhg6-BSd0"
      },
      "source": [
        "At this point, I estimate the parameters A and k, responsible for describing the liquidity of the asset, where:\n",
        "$$\n",
        "\\lambda(\\delta) = A e^{-\\kappa\\delta}\n",
        "$$\n",
        "\n",
        "Sources:\n",
        "\n",
        "\n",
        "*   \"*Dealing with the Inventory Risk*\" (https://arxiv.org/pdf/1105.3115.pdf)\n",
        "*   https://quant.stackexchange.com/questions/36073/how-does-one-calibrate-lambda-in-a-avellaneda-stoikov-market-making-problem\n",
        "\n",
        "The idea behind this estimation method is as follows:\n",
        "\n",
        "1. Define a range of gaps from the mid price ($\\delta$)\n",
        "2. For each delta, place a limit buy/sell order at the asset mid price $\\pm\\delta$\n",
        "3. Using the market data, calculate how long it takes for these limit orders to theoretically be filled ($\\delta_t$)\n",
        "4. Form a histogram of the $\\delta_t$ for each $\\delta$, they should form a nice exponential distribution\n",
        "5. Calculate the empirical exponential parameter $\\lambda$ for this distribution for each $\\delta$\n",
        "6. These $\\lambda$ parameters themselves follow an exponential distribution--solve for the parameters of this distribution to get $A$, $k$\n",
        "\n",
        "\n",
        "Assumptions:\n",
        "* In our dataset there can be more than one market order in a one-second increment. Therefore, we can determine if an ask limit order is filled by considering the max market order that happened in a given one-second increment. This applies also to buy limit orders, but instead we consider the minimum order in a given one-second interval.\n",
        "\n",
        "\n"
      ]
    },
    {
      "cell_type": "code",
      "execution_count": null,
      "metadata": {
        "id": "5rYr8EiMXQRS"
      },
      "outputs": [],
      "source": [
        "deltalist = np.linspace(0.1,1,10)\n",
        "# Define a function of the expnential curve we are trying to fit\n",
        "def exp_fit(x,a,b):\n",
        "    y = a*np.exp(-b*x)\n",
        "    return y"
      ]
    },
    {
      "cell_type": "code",
      "execution_count": null,
      "metadata": {
        "colab": {
          "base_uri": "https://localhost:8080/"
        },
        "id": "eK4l7nShSiAB",
        "outputId": "34f5b4c4-9bc1-4ae3-a07f-9e31044ebc52"
      },
      "outputs": [
        {
          "name": "stdout",
          "output_type": "stream",
          "text": [
            "2021-04-07\n",
            "2021-04-08\n",
            "2021-04-09\n",
            "2021-04-10\n",
            "2021-04-11\n",
            "2021-04-12\n",
            "2021-04-13\n",
            "2021-04-14\n",
            "2021-04-15\n",
            "2021-04-16\n",
            "2021-04-17\n",
            "2021-04-18\n"
          ]
        }
      ],
      "source": [
        "Alist = []\n",
        "klist = []\n",
        "\n",
        "for i in range(len(list_of_dates)-1):\n",
        "    day = list_of_dates[i].strftime('%Y-%m-%d')\n",
        "    print(day)\n",
        "\n",
        "    sample = BTC_mid.loc[day]\n",
        "    sample.index = pd.to_datetime(sample.index)\n",
        "\n",
        "    mkt_sample = temp.loc[day][sample.index[0]:]['Price']\n",
        "\n",
        "    deltadict = {}\n",
        "\n",
        "    for price_delta in deltalist:\n",
        "        sample['bid'] = sample['midpoint'] - price_delta\n",
        "        sample['ask']  = sample['midpoint'] + price_delta\n",
        "\n",
        "        bid_limit_order_hit = (mkt_sample.groupby(pd.Grouper(freq='1S'))\n",
        "                                         .apply(lambda x: np.max(x) < sample.loc[x.name, 'bid']))\n",
        "\n",
        "\n",
        "        ask_limit_order_hit = (mkt_sample.groupby(pd.Grouper(freq='1S'))\n",
        "                                         .apply(lambda x: np.max(x) > sample.loc[x.name, 'ask']))\n",
        "\n",
        "        # Combine the two into a single signal\n",
        "        limit_order_hit = bid_limit_order_hit | ask_limit_order_hit\n",
        "\n",
        "        deltas = pd.Series(limit_order_hit[limit_order_hit == 1].index).diff().apply(lambda x: x.total_seconds())\n",
        "\n",
        "        deltadict[price_delta] = deltas\n",
        "\n",
        "    lambdas = pd.DataFrame([[key,1/deltadict[key].mean()] for key in deltadict.keys()],\n",
        "                       columns=['delta','lambda_delta']).set_index('delta')\n",
        "\n",
        "    paramsB, cv = scipy.optimize.curve_fit(exp_fit, np.array(lambdas.index), np.array(lambdas['lambda_delta'].values))\n",
        "    A, k = paramsB\n",
        "\n",
        "    Alist.append(A)\n",
        "    klist.append(k)"
      ]
    },
    {
      "cell_type": "markdown",
      "metadata": {
        "id": "ZkWchMtD06Pe"
      },
      "source": [
        "## Parameters Estimation $\\gamma$"
      ]
    },
    {
      "cell_type": "markdown",
      "metadata": {
        "id": "dtiu4x87Oy8B"
      },
      "source": [
        "Now that the A and K parameters have been calculated, they can be used to backtest and optimize $\\gamma$ in order to maximize the sharpe ratio. The $\\gamma$ value that optimizes the sharpe at time t-1 will be used at time t. Perhaps, here I calculate the $\\gamma$ for each day."
      ]
    },
    {
      "cell_type": "code",
      "execution_count": null,
      "metadata": {
        "id": "xLBLZyZi5sar"
      },
      "outputs": [],
      "source": [
        "# in parallel\n",
        "def parallel_backtest(gamma):\n",
        "\n",
        "    # Run the backtest\n",
        "    res = run_backtest(s, m, gamma, A, k, sigma)\n",
        "\n",
        "    # Calculate the percent change of PnL\n",
        "    res_pnl = pd.Series(res['pnl']).pct_change().dropna()[1:]\n",
        "\n",
        "    # Calculate the Sharpe of backtest\n",
        "    return [gamma, res_pnl.mean() / res_pnl.std()]"
      ]
    },
    {
      "cell_type": "code",
      "execution_count": null,
      "metadata": {
        "colab": {
          "background_save": true
        },
        "id": "zUCjm9O95whK"
      },
      "outputs": [],
      "source": [
        "# Define number of processes\n",
        "p = Pool(processes=20)\n",
        "\n",
        "# Map the parallel_backtest function to each process,\n",
        "# Define the gamma search space as 50 evenly-placed numbers\n",
        "# between 0.1 and 5\n",
        "data = p.map(parallel_backtest, np.linspace(0.1,5,50))\n",
        "\n",
        "# End the processes\n",
        "p.close()"
      ]
    },
    {
      "cell_type": "code",
      "execution_count": null,
      "metadata": {
        "colab": {
          "background_save": true
        },
        "id": "lDg5KTLN5yQa",
        "outputId": "95bc325e-bf2b-4f7d-c2c8-bced81c57775"
      },
      "outputs": [
        {
          "data": {
            "text/plain": [
              "2.6"
            ]
          },
          "execution_count": null,
          "metadata": {},
          "output_type": "execute_result"
        }
      ],
      "source": [
        "best_gamma = pd.DataFrame(data).set_index(0).idxmax().values[0]\n",
        "best_gamma"
      ]
    },
    {
      "cell_type": "code",
      "execution_count": null,
      "metadata": {
        "colab": {
          "base_uri": "https://localhost:8080/"
        },
        "id": "rKCADNaN1G5-",
        "outputId": "488ca5dd-4642-468c-b3ba-38a8f560295a"
      },
      "outputs": [
        {
          "name": "stdout",
          "output_type": "stream",
          "text": [
            "2021-04-08\n",
            "2021-04-09\n",
            "2021-04-10\n",
            "2021-04-11\n",
            "2021-04-12\n",
            "2021-04-13\n",
            "2021-04-14\n",
            "2021-04-15\n",
            "2021-04-16\n",
            "2021-04-17\n",
            "2021-04-18\n",
            "2021-04-19\n"
          ]
        }
      ],
      "source": [
        "gammalist = []\n",
        "\n",
        "# Skip a day because we need to use parameter estimates from\n",
        "# day t-1 to calculate the PnL of t\n",
        "for j in range(1,len(list_of_dates)):\n",
        "\n",
        "    # Get parameters from previos day\n",
        "    sigma = sigmalist[j-1]\n",
        "    A = Alist[j-1]\n",
        "    k = klist[j-1]\n",
        "\n",
        "    date = list_of_dates[j].strftime('%Y-%m-%d')\n",
        "    print(date)\n",
        "\n",
        "    # Get mid prices for the day\n",
        "    s = BTC_mid.loc[date]\n",
        "\n",
        "    # Fill in any missing seconds with NaNs\n",
        "    s = s.resample('S').asfreq(fill_value=np.nan)\n",
        "\n",
        "    # Forward fill the previous midprice if one doesn't\n",
        "    # exist for a given second-interval\n",
        "    s = s.ffill()\n",
        "    s = s['midpoint']\n",
        "\n",
        "    m = temp.loc[date]\n",
        "\n",
        "    # Get market orders for next day, low market is lowest\n",
        "    # price of market order submitted in 1-sec\n",
        "    low_mkt = m.resample('S').min().reindex(s.index)\n",
        "\n",
        "    # hi market is highest price of market order submitted\n",
        "    # in 1-sec\n",
        "    hi_mkt = m.resample('S').max().reindex(s.index)\n",
        "\n",
        "    p = Pool(processes=20)\n",
        "    data = p.map(parallel_backtest, np.linspace(0.1,5,50))\n",
        "    p.close()\n",
        "\n",
        "    best_gamma = pd.DataFrame(data).set_index(0).idxmax().values[0]\n",
        "\n",
        "    gammalist.append(best_gamma)"
      ]
    },
    {
      "cell_type": "code",
      "execution_count": null,
      "metadata": {
        "colab": {
          "base_uri": "https://localhost:8080/"
        },
        "id": "R8BGqLXZZ0He",
        "outputId": "c982440b-6cc3-4565-8686-3a6dfd0d92f7"
      },
      "outputs": [
        {
          "data": {
            "text/plain": [
              "[2.6,\n",
              " 3.7,\n",
              " 1.2000000000000002,\n",
              " 0.7000000000000001,\n",
              " 3.4000000000000004,\n",
              " 1.4000000000000001,\n",
              " 3.4000000000000004,\n",
              " 3.1,\n",
              " 0.8,\n",
              " 1.5000000000000002,\n",
              " 1.7000000000000002,\n",
              " 0.7000000000000001]"
            ]
          },
          "execution_count": 35,
          "metadata": {},
          "output_type": "execute_result"
        }
      ],
      "source": [
        "gammalist"
      ]
    },
    {
      "cell_type": "markdown",
      "metadata": {
        "id": "TNwf0uBobPif"
      },
      "source": [
        " # Full Backtest BTC (XBTUSD)\n"
      ]
    },
    {
      "cell_type": "markdown",
      "metadata": {
        "id": "WJr9UIcZSJPh"
      },
      "source": [
        "Now that all the parameters have been estimated, we can perform a complete backtest of the strategy on BTC.\n"
      ]
    },
    {
      "cell_type": "code",
      "execution_count": null,
      "metadata": {
        "id": "AGBqzWDBbO92"
      },
      "outputs": [],
      "source": [
        "res = {}\n",
        "\n",
        "# Exactly the same as before, just iterating through\n",
        "# all the relevant days\n",
        "for j in range(1,len(list_of_dates)-1):\n",
        "\n",
        "    date = list_of_dates[j].strftime('%Y-%m-%d')\n",
        "    s = BTC_mid.loc[date]\n",
        "\n",
        "    # Fill in any missing seconds with NaNs\n",
        "    s = s.resample('S').asfreq(fill_value=np.nan)\n",
        "\n",
        "    # Forward fill the previous midprice if one doesn't\n",
        "    # exist for a given second-interval\n",
        "    s = s.ffill()\n",
        "    s = s['midpoint']\n",
        "\n",
        "    m = temp.loc[date]\n",
        "\n",
        "    A = Alist[j-1]\n",
        "    k = klist[j-1]\n",
        "    sigma = sigmalist[j-1]\n",
        "    gamma = gammalist[j-1]\n",
        "    #print(gamma, A, k, sigma)\n",
        "\n",
        "    res[date] = run_backtest(s, m, gamma, A, k, sigma)"
      ]
    },
    {
      "cell_type": "markdown",
      "metadata": {
        "id": "sY2kqrlIb0bv"
      },
      "source": [
        "Calculate cumulative PnL:"
      ]
    },
    {
      "cell_type": "code",
      "execution_count": null,
      "metadata": {
        "id": "-9dWLrLlbMRD"
      },
      "outputs": [],
      "source": [
        "#Cumulative PNL\n",
        "for i in range(1,len(list_of_dates)-1):\n",
        "\n",
        "    # Get both current day and previous day\n",
        "    date = list_of_dates[i].strftime('%Y-%m-%d')\n",
        "    prev_date = list_of_dates[i-1].strftime('%Y-%m-%d')\n",
        "\n",
        "    # If first day, no addition needed\n",
        "    if i == 1:\n",
        "        res[date]['pnl'] = res[date]['pnl'][1:]\n",
        "\n",
        "    # Else, add the terminal PnL of day t-1 to day t's PnL\n",
        "    else:\n",
        "        res[date]['pnl'] = res[date]['pnl'][1:]+res[prev_date]['pnl'][-1]"
      ]
    },
    {
      "cell_type": "markdown",
      "metadata": {
        "id": "-cDl4z0-SWI4"
      },
      "source": [
        "Plot the PnL curve:"
      ]
    },
    {
      "cell_type": "code",
      "execution_count": null,
      "metadata": {
        "colab": {
          "base_uri": "https://localhost:8080/",
          "height": 536
        },
        "id": "dbC7iZ5VcNK3",
        "outputId": "37d64659-05cd-4fd6-d08b-cc6d982ce991"
      },
      "outputs": [
        {
          "data": {
            "image/png": "[encoded data removed]",
            "text/plain": [
              "<Figure size 1080x576 with 1 Axes>"
            ]
          },
          "metadata": {},
          "output_type": "display_data"
        }
      ],
      "source": [
        "# Plot the results\n",
        "fig = plt.figure(figsize=(15,8))\n",
        "#ax = fig.add_subplot(111)\n",
        "\n",
        "# Concatenate into a single DataFrame\n",
        "full_backtest_res = pd.concat([pd.Series(res[x]['pnl']) for x in res.keys()],\n",
        "                              axis=0)\n",
        "\n",
        "full_backtest_res.index = pd.to_datetime(BTC_mid['2021-04-08':'2021-04-18'][:-11].index)\n",
        "full_backtest_res.plot()\n",
        "plt.xlabel('Date')\n",
        "plt.ylabel('PnL')\n",
        "plt.show()"
      ]
    },
    {
      "cell_type": "markdown",
      "metadata": {
        "id": "vU0GrmmMIgJV"
      },
      "source": [
        "Let's now give a look at the inventory and spread related to the backtest. As also noted for the Cardano backtest (ADA), peaks in the inventory are associated with large movements also in the Pnl curve.\n",
        "As for the spread, it does not seem that its value is time dependent."
      ]
    },
    {
      "cell_type": "code",
      "execution_count": null,
      "metadata": {
        "id": "YsXRM29kH9Ca"
      },
      "outputs": [],
      "source": [
        "date_index = BTC_mid['2021-04-08':'2021-04-18'].index"
      ]
    },
    {
      "cell_type": "code",
      "execution_count": null,
      "metadata": {
        "id": "zgY_ZRP-Hl2j"
      },
      "outputs": [],
      "source": [
        "BTC_q = pd.concat([pd.Series(res[date]['q'][1:]) for date in res.keys()], axis=0)\n",
        "BTC_q.index = date_index"
      ]
    },
    {
      "cell_type": "code",
      "execution_count": null,
      "metadata": {
        "id": "LazfcdClH0kd"
      },
      "outputs": [],
      "source": [
        "BTC_spread = pd.concat([pd.Series(res[date]['spread'][:-1]) for date in res.keys()], axis=0)\n",
        "BTC_spread.index = date_index"
      ]
    },
    {
      "cell_type": "code",
      "execution_count": null,
      "metadata": {
        "colab": {
          "base_uri": "https://localhost:8080/",
          "height": 502
        },
        "id": "3CKcEPBBHsKb",
        "outputId": "b375551f-312d-4332-b1b2-05972c228ef2"
      },
      "outputs": [
        {
          "data": {
            "image/png": "[encoded data removed]",
            "text/plain": [
              "<Figure size 1080x576 with 1 Axes>"
            ]
          },
          "metadata": {},
          "output_type": "display_data"
        }
      ],
      "source": [
        "# Plot the results\n",
        "fig = plt.figure(figsize=(15,8))\n",
        "ax = fig.add_subplot(111)\n",
        "plt.plot(BTC_q, label='BTC Inventory')\n",
        "plt.xlabel('Date')\n",
        "plt.ylabel('Inventory')\n",
        "plt.legend()\n",
        "plt.show()"
      ]
    },
    {
      "cell_type": "code",
      "execution_count": null,
      "metadata": {
        "colab": {
          "base_uri": "https://localhost:8080/",
          "height": 502
        },
        "id": "yV3t0K2bIKoa",
        "outputId": "1a926476-80af-4b56-e76a-c0251878173e"
      },
      "outputs": [
        {
          "data": {
            "image/png": "[encoded data removed]",
            "text/plain": [
              "<Figure size 1080x576 with 1 Axes>"
            ]
          },
          "metadata": {},
          "output_type": "display_data"
        }
      ],
      "source": [
        "# Plot the results\n",
        "fig = plt.figure(figsize=(15,8))\n",
        "ax = fig.add_subplot(111)\n",
        "plt.plot(BTC_spread, label='BTC Spread')\n",
        "plt.xlabel('Date')\n",
        "plt.ylabel('Spread')\n",
        "plt.legend()\n",
        "plt.show()"
      ]
    }
  ],
  "metadata": {
    "colab": {
      "collapsed_sections": [
        "HBRmkDawwq8M",
        "ulrntdUtwu78",
        "GNV-fqTiReTB",
        "3acEW3vnSDT2",
        "ZkWchMtD06Pe"
      ],
      "provenance": []
    },
    "kernelspec": {
      "display_name": "Python 3",
      "name": "python3"
    },
    "language_info": {
      "name": "python"
    }
  },
  "nbformat": 4,
  "nbformat_minor": 0
}
